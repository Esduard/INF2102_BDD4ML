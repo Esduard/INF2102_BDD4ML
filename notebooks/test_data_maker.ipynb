{
 "cells": [
  {
   "cell_type": "code",
   "execution_count": 3,
   "metadata": {},
   "outputs": [
    {
     "data": {
      "text/plain": [
       "\" \\nx_columns = ['Pregnancies','Glucose','BloodPressure','SkinThickness','Insulin','BMI','DiabetesPedigreeFunction','Age']  # Replace with actual column names\\ny_columns = ['Outcome']  # Replace with actual column names\\nconcatenated_df = concatenate_csv_files_with_labels('test_data/x_test.csv', 'test_data/y_test.csv', x_columns, y_columns)\\nprint(concatenated_df)\\n\\n# Save the concatenated DataFrame to a new CSV file\\nconcatenated_df.to_csv('test_data/test_data.csv', index=False)\\n\""
      ]
     },
     "execution_count": 3,
     "metadata": {},
     "output_type": "execute_result"
    }
   ],
   "source": [
    "import pandas as pd\n",
    "\n",
    "def concatenate_csv_files_with_labels(x_filename, y_filename, x_columns, y_columns):\n",
    "    # Load the CSV files into pandas DataFrames\n",
    "    x_data = pd.read_csv(x_filename)\n",
    "    y_data = pd.read_csv(y_filename)\n",
    "\n",
    "    print(len(x_columns))\n",
    "\n",
    "    print(x_columns)\n",
    "    \n",
    "    # Check if the number of columns matches the provided labels\n",
    "    if len(x_columns) != len(x_data.columns):\n",
    "        raise ValueError(\"Number of x_columns does not match the number of columns in x_data\")\n",
    "    if len(y_columns) != len(y_data.columns):\n",
    "        raise ValueError(\"Number of y_columns does not match the number of columns in y_data\")\n",
    "    \n",
    "    # Set the new column names\n",
    "    x_data.columns = x_columns\n",
    "    y_data.columns = y_columns\n",
    "    \n",
    "    # Concatenate the DataFrames horizontally\n",
    "    concatenated_data = pd.concat([x_data, y_data], axis=1)\n",
    "    \n",
    "    return concatenated_data\n",
    "\n",
    "# Example usage:\n",
    "''' \n",
    "x_columns = ['Pregnancies','Glucose','BloodPressure','SkinThickness','Insulin','BMI','DiabetesPedigreeFunction','Age']  # Replace with actual column names\n",
    "y_columns = ['Outcome']  # Replace with actual column names\n",
    "concatenated_df = concatenate_csv_files_with_labels('test_data/x_test.csv', 'test_data/y_test.csv', x_columns, y_columns)\n",
    "print(concatenated_df)\n",
    "\n",
    "# Save the concatenated DataFrame to a new CSV file\n",
    "concatenated_df.to_csv('test_data/test_data.csv', index=False)\n",
    "'''\n",
    "\n"
   ]
  },
  {
   "cell_type": "code",
   "execution_count": 2,
   "metadata": {},
   "outputs": [],
   "source": [
    "import pandas as pd\n",
    "dataset = pd.read_csv('./../test_data/test_data.csv', delimiter=',')"
   ]
  },
  {
   "cell_type": "code",
   "execution_count": 1,
   "metadata": {},
   "outputs": [
    {
     "data": {
      "text/plain": [
       "\"\\nx_columns = ['age','sex','bmi','bp','s1','s2','s3','s4','s5','s6']  # Replace with actual column names\\ny_columns = ['target']  # Replace with actual column names\\nconcatenated_df = concatenate_csv_files_with_labels('./../test_data/x_test_regression.csv', './../test_data/y_test_regression.csv', x_columns, y_columns)\\nprint(concatenated_df)\\n\\n# Save the concatenated DataFrame to a new CSV file\\nconcatenated_df.to_csv('./../test_data/test_data_regression.csv', index=False)\\n\""
      ]
     },
     "execution_count": 1,
     "metadata": {},
     "output_type": "execute_result"
    }
   ],
   "source": [
    "# Example usage:\n",
    "'''\n",
    "x_columns = ['age','sex','bmi','bp','s1','s2','s3','s4','s5','s6']  # Replace with actual column names\n",
    "y_columns = ['target']  # Replace with actual column names\n",
    "concatenated_df = concatenate_csv_files_with_labels('./../test_data/x_test_regression.csv', './../test_data/y_test_regression.csv', x_columns, y_columns)\n",
    "print(concatenated_df)\n",
    "\n",
    "# Save the concatenated DataFrame to a new CSV file\n",
    "concatenated_df.to_csv('./../test_data/test_data_regression.csv', index=False)\n",
    "'''\n"
   ]
  },
  {
   "cell_type": "code",
   "execution_count": 5,
   "metadata": {},
   "outputs": [
    {
     "name": "stdout",
     "output_type": "stream",
     "text": [
      "    sepal_length  sepal_width  petal_length  petal_width     species\n",
      "0            5.9          3.0           5.1          1.8   virginica\n",
      "1            5.4          3.0           4.5          1.5  versicolor\n",
      "2            5.0          3.5           1.3          0.3      setosa\n",
      "3            5.6          3.0           4.5          1.5  versicolor\n",
      "4            4.9          2.5           4.5          1.7   virginica\n",
      "5            4.5          2.3           1.3          0.3      setosa\n",
      "6            6.9          3.1           4.9          1.5  versicolor\n",
      "7            5.6          2.7           4.2          1.3  versicolor\n",
      "8            4.8          3.4           1.6          0.2      setosa\n",
      "9            6.4          3.2           4.5          1.5  versicolor\n",
      "10           6.7          3.0           5.0          1.7  versicolor\n",
      "11           6.0          3.4           4.5          1.6  versicolor\n",
      "12           5.2          4.1           1.5          0.1      setosa\n",
      "13           7.2          3.6           6.1          2.5   virginica\n",
      "14           5.2          3.4           1.4          0.2      setosa\n",
      "15           5.9          3.2           4.8          1.8  versicolor\n",
      "16           6.7          2.5           5.8          1.8   virginica\n",
      "17           6.4          3.1           5.5          1.8   virginica\n",
      "18           5.1          3.8           1.6          0.2      setosa\n",
      "19           4.9          3.1           1.5          0.1      setosa\n",
      "20           5.8          2.7           3.9          1.2  versicolor\n",
      "21           6.9          3.2           5.7          2.3   virginica\n",
      "22           6.1          2.9           4.7          1.4  versicolor\n",
      "23           6.0          2.2           5.0          1.5   virginica\n",
      "24           7.2          3.0           5.8          1.6   virginica\n",
      "25           6.0          3.0           4.8          1.8   virginica\n",
      "26           6.2          2.9           4.3          1.3  versicolor\n",
      "27           5.5          2.4           3.8          1.1  versicolor\n",
      "28           5.8          2.7           5.1          1.9   virginica\n",
      "29           6.7          3.1           5.6          2.4   virginica\n",
      "30           6.2          2.8           4.8          1.8   virginica\n",
      "31           5.7          2.6           3.5          1.0  versicolor\n",
      "32           4.6          3.6           1.0          0.2      setosa\n",
      "33           6.9          3.1           5.4          2.1   virginica\n",
      "34           6.4          2.9           4.3          1.3  versicolor\n",
      "35           4.8          3.0           1.4          0.3      setosa\n",
      "36           5.5          3.5           1.3          0.2      setosa\n",
      "37           5.4          3.9           1.7          0.4      setosa\n",
      "38           5.1          3.5           1.4          0.3      setosa\n",
      "39           7.1          3.0           5.9          2.1   virginica\n",
      "40           6.7          3.3           5.7          2.1   virginica\n",
      "41           6.8          2.8           4.8          1.4  versicolor\n",
      "42           6.4          2.8           5.6          2.2   virginica\n",
      "43           6.5          3.0           5.5          1.8   virginica\n",
      "44           5.7          3.0           4.2          1.2  versicolor\n"
     ]
    }
   ],
   "source": [
    "x_columns = [\"sepal_length\",\"sepal_width\",\"petal_length\",\"petal_width\"]  # Replace with actual column names\n",
    "y_columns = [\"species\"]  # Replace with actual column names\n",
    "concatenated_df = concatenate_csv_files_with_labels('../test_data/x_test_iris.csv', '../test_data/y_test_earthquake.csv', x_columns, y_columns)\n",
    "print(concatenated_df)\n",
    "\n",
    "# Save the concatenated DataFrame to a new CSV file\n",
    "concatenated_df.to_csv('../test_data/test_data_iris.csv', index=False)"
   ]
  },
  {
   "cell_type": "code",
   "execution_count": 5,
   "metadata": {},
   "outputs": [
    {
     "name": "stdout",
     "output_type": "stream",
     "text": [
      "8\n",
      "['Date', 'Time (utc)', 'Region', 'Depth (km)', 'Latitude', 'Longitude', 'Mode', 'Map']\n",
      "              Date  Time (utc)  Region  Depth (km)  Latitude  Longitude  Mode  \\\n",
      "0     1.637366e+09     23334.0  1768.0       150.0     36.21      69.99   1.0   \n",
      "1     1.592266e+09     31230.0  1899.0        10.0     33.06      76.08   1.0   \n",
      "2     1.705968e+09     70815.0  2922.0        25.0     41.10      78.45   1.0   \n",
      "3     1.467677e+09       358.0  3011.0        52.0     36.62      71.37   1.0   \n",
      "4     1.539648e+09     16964.0  2851.0        45.0    -21.75     169.49   0.0   \n",
      "...            ...         ...     ...         ...       ...        ...   ...   \n",
      "4403  1.543968e+09     28022.0  2339.0       183.0    -22.07     168.75   0.0   \n",
      "4404  1.649635e+09      6096.0  2442.0        34.0     31.80      75.24   1.0   \n",
      "4405  1.618186e+09     73196.0  1768.0        88.0     36.86      70.86   1.0   \n",
      "4406  1.467331e+09     39679.0  2994.0        10.0     39.52      72.58   1.0   \n",
      "4407  1.713226e+09     75593.0  2899.0        14.0     27.87      59.29   0.0   \n",
      "\n",
      "      Map  Magnitude  \n",
      "0     0.0        3.7  \n",
      "1     0.0        3.8  \n",
      "2     0.0        4.7  \n",
      "3     0.0        3.2  \n",
      "4     0.0        5.7  \n",
      "...   ...        ...  \n",
      "4403  0.0        4.8  \n",
      "4404  0.0        5.3  \n",
      "4405  0.0        3.6  \n",
      "4406  0.0        3.9  \n",
      "4407  0.0        4.8  \n",
      "\n",
      "[4408 rows x 9 columns]\n"
     ]
    }
   ],
   "source": [
    "x_columns = [\"Date\",\"Time (utc)\",\"Region\",\"Depth (km)\",\"Latitude\", \"Longitude\", \"Mode\", \"Map\"]  # Replace with actual column names\n",
    "y_columns = [\"Magnitude\"]  # Replace with actual column names\n",
    "concatenated_df = concatenate_csv_files_with_labels('../test_data/x_test_earthquake.csv', '../test_data/y_test_earthquake.csv', x_columns, y_columns)\n",
    "print(concatenated_df)\n",
    "\n",
    "# Save the concatenated DataFrame to a new CSV file\n",
    "concatenated_df.to_csv('../test_data/test_data_earthquake.csv', index=False)"
   ]
  }
 ],
 "metadata": {
  "kernelspec": {
   "display_name": "Python 3",
   "language": "python",
   "name": "python3"
  },
  "language_info": {
   "codemirror_mode": {
    "name": "ipython",
    "version": 3
   },
   "file_extension": ".py",
   "mimetype": "text/x-python",
   "name": "python",
   "nbconvert_exporter": "python",
   "pygments_lexer": "ipython3",
   "version": "3.11.7"
  }
 },
 "nbformat": 4,
 "nbformat_minor": 2
}
